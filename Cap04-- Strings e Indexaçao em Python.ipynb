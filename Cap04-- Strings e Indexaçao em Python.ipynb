{
 "cells": [
  {
   "cell_type": "markdown",
   "id": "7a4f1d9c",
   "metadata": {},
   "source": [
    "# Criando String"
   ]
  },
  {
   "cell_type": "markdown",
   "id": "384861b6",
   "metadata": {},
   "source": [
    "Para criar uma String voce pode usar aspas simples ou duplas. Veja:"
   ]
  },
  {
   "cell_type": "code",
   "execution_count": 1,
   "id": "b364132e",
   "metadata": {},
   "outputs": [
    {
     "data": {
      "text/plain": [
       "'OI'"
      ]
     },
     "execution_count": 1,
     "metadata": {},
     "output_type": "execute_result"
    }
   ],
   "source": [
    "# Uma unica palavra\n",
    "'OI'"
   ]
  },
  {
   "cell_type": "code",
   "execution_count": 2,
   "id": "dea17da6",
   "metadata": {},
   "outputs": [
    {
     "data": {
      "text/plain": [
       "'Criando uma String em Python'"
      ]
     },
     "execution_count": 2,
     "metadata": {},
     "output_type": "execute_result"
    }
   ],
   "source": [
    "# Uma frase\n",
    "'Criando uma String em Python'"
   ]
  },
  {
   "cell_type": "code",
   "execution_count": 3,
   "id": "3c8efa0f",
   "metadata": {},
   "outputs": [
    {
     "data": {
      "text/plain": [
       "'Podemos usar as Duplas ou simples em Python'"
      ]
     },
     "execution_count": 3,
     "metadata": {},
     "output_type": "execute_result"
    }
   ],
   "source": [
    "# Podemos usar aspas Duplas\n",
    "\"Podemos usar as Duplas ou simples em Python\""
   ]
  },
  {
   "cell_type": "code",
   "execution_count": 4,
   "id": "878b4c2b",
   "metadata": {},
   "outputs": [
    {
     "data": {
      "text/plain": [
       "\"Testando String em 'Python'\""
      ]
     },
     "execution_count": 4,
     "metadata": {},
     "output_type": "execute_result"
    }
   ],
   "source": [
    "# Voce pode combinar as Duplas ou Simples\n",
    "\"Testando String em 'Python'\""
   ]
  },
  {
   "cell_type": "code",
   "execution_count": null,
   "id": "4bab963b",
   "metadata": {},
   "outputs": [],
   "source": []
  },
  {
   "cell_type": "markdown",
   "id": "37ff33c1",
   "metadata": {},
   "source": [
    "### Imprimindo uma String em Python"
   ]
  },
  {
   "cell_type": "code",
   "execution_count": 5,
   "id": "f02054f6",
   "metadata": {},
   "outputs": [
    {
     "name": "stdout",
     "output_type": "stream",
     "text": [
      "Testando String em Python\n"
     ]
    }
   ],
   "source": [
    "print (\"Testando String em Python\")"
   ]
  },
  {
   "cell_type": "code",
   "execution_count": 6,
   "id": "b6003596",
   "metadata": {},
   "outputs": [
    {
     "name": "stdout",
     "output_type": "stream",
     "text": [
      "Testando \n",
      "String \n",
      "em \n",
      "Python\n"
     ]
    }
   ],
   "source": [
    "print ('Testando \\nString \\nem \\nPython')"
   ]
  },
  {
   "cell_type": "code",
   "execution_count": 7,
   "id": "0cd685aa",
   "metadata": {},
   "outputs": [
    {
     "name": "stdout",
     "output_type": "stream",
     "text": [
      "\n",
      "\n"
     ]
    }
   ],
   "source": [
    "print (\"\\n\")"
   ]
  },
  {
   "cell_type": "markdown",
   "id": "e129c1fb",
   "metadata": {},
   "source": [
    "### Indexando String "
   ]
  },
  {
   "cell_type": "code",
   "execution_count": 1,
   "id": "7bd7dcef",
   "metadata": {},
   "outputs": [],
   "source": [
    "# Atribuindo uma String\n",
    "s = 'Isabelly Moraes'"
   ]
  },
  {
   "cell_type": "code",
   "execution_count": 2,
   "id": "9ba2c634",
   "metadata": {},
   "outputs": [
    {
     "name": "stdout",
     "output_type": "stream",
     "text": [
      "Isabelly Moraes\n"
     ]
    }
   ],
   "source": [
    "print (s)"
   ]
  },
  {
   "cell_type": "markdown",
   "id": "d93443d2",
   "metadata": {},
   "source": [
    "##### Indexaçao em Python começa por zero."
   ]
  },
  {
   "cell_type": "code",
   "execution_count": 3,
   "id": "6af9616a",
   "metadata": {},
   "outputs": [
    {
     "data": {
      "text/plain": [
       "'I'"
      ]
     },
     "execution_count": 3,
     "metadata": {},
     "output_type": "execute_result"
    }
   ],
   "source": [
    "# Primeiro elemento da String\n",
    "s [0]"
   ]
  },
  {
   "cell_type": "code",
   "execution_count": 4,
   "id": "d1a5186b",
   "metadata": {},
   "outputs": [
    {
     "data": {
      "text/plain": [
       "'s'"
      ]
     },
     "execution_count": 4,
     "metadata": {},
     "output_type": "execute_result"
    }
   ],
   "source": [
    "s [1]"
   ]
  },
  {
   "cell_type": "code",
   "execution_count": 5,
   "id": "459db696",
   "metadata": {},
   "outputs": [
    {
     "data": {
      "text/plain": [
       "'a'"
      ]
     },
     "execution_count": 5,
     "metadata": {},
     "output_type": "execute_result"
    }
   ],
   "source": [
    "s [2]"
   ]
  },
  {
   "cell_type": "code",
   "execution_count": 6,
   "id": "9352ef2d",
   "metadata": {},
   "outputs": [
    {
     "data": {
      "text/plain": [
       "'b'"
      ]
     },
     "execution_count": 6,
     "metadata": {},
     "output_type": "execute_result"
    }
   ],
   "source": [
    "s [3]"
   ]
  },
  {
   "cell_type": "code",
   "execution_count": 7,
   "id": "0cb6300f",
   "metadata": {},
   "outputs": [
    {
     "data": {
      "text/plain": [
       "'e'"
      ]
     },
     "execution_count": 7,
     "metadata": {},
     "output_type": "execute_result"
    }
   ],
   "source": [
    "s [4]"
   ]
  },
  {
   "cell_type": "code",
   "execution_count": 8,
   "id": "38ac32db",
   "metadata": {},
   "outputs": [
    {
     "data": {
      "text/plain": [
       "'l'"
      ]
     },
     "execution_count": 8,
     "metadata": {},
     "output_type": "execute_result"
    }
   ],
   "source": [
    "s [5]"
   ]
  },
  {
   "cell_type": "code",
   "execution_count": 9,
   "id": "1a0adbcc",
   "metadata": {},
   "outputs": [
    {
     "data": {
      "text/plain": [
       "'l'"
      ]
     },
     "execution_count": 9,
     "metadata": {},
     "output_type": "execute_result"
    }
   ],
   "source": [
    "s [6]"
   ]
  },
  {
   "cell_type": "code",
   "execution_count": 10,
   "id": "e7604409",
   "metadata": {},
   "outputs": [
    {
     "data": {
      "text/plain": [
       "'y'"
      ]
     },
     "execution_count": 10,
     "metadata": {},
     "output_type": "execute_result"
    }
   ],
   "source": [
    "s [7]"
   ]
  },
  {
   "cell_type": "code",
   "execution_count": 11,
   "id": "ae030c5a",
   "metadata": {},
   "outputs": [
    {
     "data": {
      "text/plain": [
       "' '"
      ]
     },
     "execution_count": 11,
     "metadata": {},
     "output_type": "execute_result"
    }
   ],
   "source": [
    "s[8]"
   ]
  },
  {
   "cell_type": "code",
   "execution_count": 12,
   "id": "75c069be",
   "metadata": {},
   "outputs": [
    {
     "data": {
      "text/plain": [
       "'M'"
      ]
     },
     "execution_count": 12,
     "metadata": {},
     "output_type": "execute_result"
    }
   ],
   "source": [
    "s [9]"
   ]
  },
  {
   "cell_type": "code",
   "execution_count": 13,
   "id": "470da474",
   "metadata": {},
   "outputs": [
    {
     "data": {
      "text/plain": [
       "'o'"
      ]
     },
     "execution_count": 13,
     "metadata": {},
     "output_type": "execute_result"
    }
   ],
   "source": [
    "s [10]"
   ]
  },
  {
   "cell_type": "code",
   "execution_count": 14,
   "id": "f2f2ce83",
   "metadata": {},
   "outputs": [
    {
     "data": {
      "text/plain": [
       "'r'"
      ]
     },
     "execution_count": 14,
     "metadata": {},
     "output_type": "execute_result"
    }
   ],
   "source": [
    "s [11]"
   ]
  },
  {
   "cell_type": "code",
   "execution_count": 15,
   "id": "722b0cc5",
   "metadata": {},
   "outputs": [
    {
     "data": {
      "text/plain": [
       "'a'"
      ]
     },
     "execution_count": 15,
     "metadata": {},
     "output_type": "execute_result"
    }
   ],
   "source": [
    "s [12]"
   ]
  },
  {
   "cell_type": "code",
   "execution_count": 16,
   "id": "72369e10",
   "metadata": {},
   "outputs": [
    {
     "data": {
      "text/plain": [
       "'e'"
      ]
     },
     "execution_count": 16,
     "metadata": {},
     "output_type": "execute_result"
    }
   ],
   "source": [
    "s [13]"
   ]
  },
  {
   "cell_type": "markdown",
   "id": "dca9170e",
   "metadata": {},
   "source": [
    "### Propiedade de String\n"
   ]
  },
  {
   "cell_type": "code",
   "execution_count": 15,
   "id": "79938f47",
   "metadata": {},
   "outputs": [
    {
     "name": "stdout",
     "output_type": "stream",
     "text": [
      "Isabelly Moraes\n"
     ]
    }
   ],
   "source": [
    "s = \"Isabelly Moraes\"\n",
    "print (s)"
   ]
  },
  {
   "cell_type": "code",
   "execution_count": 22,
   "id": "60d1b454",
   "metadata": {},
   "outputs": [
    {
     "ename": "TypeError",
     "evalue": "'str' object does not support item assignment",
     "output_type": "error",
     "traceback": [
      "\u001b[1;31m---------------------------------------------------------------------------\u001b[0m",
      "\u001b[1;31mTypeError\u001b[0m                                 Traceback (most recent call last)",
      "\u001b[1;32m~\\AppData\\Local\\Temp\\ipykernel_8896\\293517981.py\u001b[0m in \u001b[0;36m<module>\u001b[1;34m\u001b[0m\n\u001b[0;32m      1\u001b[0m \u001b[1;31m# Alterando um caractere (nao e possivel altera uma String)\u001b[0m\u001b[1;33m\u001b[0m\u001b[1;33m\u001b[0m\u001b[0m\n\u001b[1;32m----> 2\u001b[1;33m \u001b[0ms\u001b[0m \u001b[1;33m[\u001b[0m\u001b[1;36m0\u001b[0m\u001b[1;33m]\u001b[0m \u001b[1;33m=\u001b[0m \u001b[1;34m'x'\u001b[0m\u001b[1;33m\u001b[0m\u001b[1;33m\u001b[0m\u001b[0m\n\u001b[0m",
      "\u001b[1;31mTypeError\u001b[0m: 'str' object does not support item assignment"
     ]
    }
   ],
   "source": [
    "# Alterando um caractere (nao e possivel altera uma String)\n",
    "s [0] = 'x'"
   ]
  },
  {
   "cell_type": "code",
   "execution_count": 18,
   "id": "6b5446d8",
   "metadata": {},
   "outputs": [
    {
     "data": {
      "text/plain": [
       "'Isabelly Moraes” A arte de programar consiste em organizar e dominar a complexidade. “'"
      ]
     },
     "execution_count": 18,
     "metadata": {},
     "output_type": "execute_result"
    }
   ],
   "source": [
    "# Concatenando Strings\n",
    "s + \"” A arte de programar consiste em organizar e dominar a complexidade. “\""
   ]
  },
  {
   "cell_type": "code",
   "execution_count": 19,
   "id": "187c6249",
   "metadata": {},
   "outputs": [],
   "source": [
    "s = s + ' a melhor maneira de estar preparado para o mercaddo de trabalho em ciencia de dados!'"
   ]
  },
  {
   "cell_type": "code",
   "execution_count": 20,
   "id": "d4b90343",
   "metadata": {},
   "outputs": [
    {
     "name": "stdout",
     "output_type": "stream",
     "text": [
      "Isabelly Moraes a melhor maneira de estar preparado para o mercaddo de trabalho em ciencia de dados!\n"
     ]
    }
   ],
   "source": [
    "print (s)"
   ]
  },
  {
   "cell_type": "code",
   "execution_count": 20,
   "id": "fe8f4522",
   "metadata": {},
   "outputs": [],
   "source": [
    "# Podemos usar um simbolo de multiplicaçao para criar repetiçao\n",
    "letra = \"&\""
   ]
  },
  {
   "cell_type": "code",
   "execution_count": 21,
   "id": "a3957856",
   "metadata": {},
   "outputs": [
    {
     "data": {
      "text/plain": [
       "'&&&'"
      ]
     },
     "execution_count": 21,
     "metadata": {},
     "output_type": "execute_result"
    }
   ],
   "source": [
    "letra * 3"
   ]
  },
  {
   "cell_type": "markdown",
   "id": "def2e62e",
   "metadata": {},
   "source": [
    "### Funçao Bult-In de String "
   ]
  },
  {
   "cell_type": "code",
   "execution_count": 38,
   "id": "58f26755",
   "metadata": {},
   "outputs": [
    {
     "data": {
      "text/plain": [
       "'Seja bem vindo ao universo de Linguagem Python!'"
      ]
     },
     "execution_count": 38,
     "metadata": {},
     "output_type": "execute_result"
    }
   ],
   "source": [
    "s"
   ]
  },
  {
   "cell_type": "code",
   "execution_count": 39,
   "id": "4e9e8f4a",
   "metadata": {},
   "outputs": [
    {
     "data": {
      "text/plain": [
       "'SEJA BEM VINDO AO UNIVERSO DE LINGUAGEM PYTHON!'"
      ]
     },
     "execution_count": 39,
     "metadata": {},
     "output_type": "execute_result"
    }
   ],
   "source": [
    "# Upper Case\n",
    "s.upper()"
   ]
  },
  {
   "cell_type": "code",
   "execution_count": 41,
   "id": "439c1984",
   "metadata": {},
   "outputs": [
    {
     "data": {
      "text/plain": [
       "'seja bem vindo ao universo de linguagem python!'"
      ]
     },
     "execution_count": 41,
     "metadata": {},
     "output_type": "execute_result"
    }
   ],
   "source": [
    "# lower Case\n",
    "s.lower()"
   ]
  },
  {
   "cell_type": "code",
   "execution_count": 44,
   "id": "7179b7d6",
   "metadata": {},
   "outputs": [
    {
     "data": {
      "text/plain": [
       "['Seja', 'bem', 'vindo', 'ao', 'universo', 'de', 'Linguagem', 'Python!']"
      ]
     },
     "execution_count": 44,
     "metadata": {},
     "output_type": "execute_result"
    }
   ],
   "source": [
    "# Dividir uma String por espaço branco (padrao)\n",
    "s.split()"
   ]
  },
  {
   "cell_type": "code",
   "execution_count": 46,
   "id": "a929ff1f",
   "metadata": {},
   "outputs": [
    {
     "data": {
      "text/plain": [
       "['Seja bem vindo ao universo de Linguagem P', 'thon!']"
      ]
     },
     "execution_count": 46,
     "metadata": {},
     "output_type": "execute_result"
    }
   ],
   "source": [
    "# Dividir uma String por um elemento especifico\n",
    "s.split('y')"
   ]
  },
  {
   "cell_type": "markdown",
   "id": "3077bff7",
   "metadata": {},
   "source": [
    "### Funçoes String "
   ]
  },
  {
   "cell_type": "code",
   "execution_count": 21,
   "id": "3a3698df",
   "metadata": {},
   "outputs": [],
   "source": [
    "s = 'Os primeiros 90% do código representam os primeiros 10% do tempo de desenvolvimento. Os 10% restantes do código é para mostrar aos outros os 90% do tempo de desenvolvimento. '"
   ]
  },
  {
   "cell_type": "code",
   "execution_count": 22,
   "id": "6f53c71f",
   "metadata": {},
   "outputs": [
    {
     "data": {
      "text/plain": [
       "'Os primeiros 90% do código representam os primeiros 10% do tempo de desenvolvimento. Os 10% restantes do código é para mostrar aos outros os 90% do tempo de desenvolvimento. '"
      ]
     },
     "execution_count": 22,
     "metadata": {},
     "output_type": "execute_result"
    }
   ],
   "source": [
    "s"
   ]
  },
  {
   "cell_type": "code",
   "execution_count": 23,
   "id": "58c04230",
   "metadata": {},
   "outputs": [
    {
     "data": {
      "text/plain": [
       "'Os primeiros 90% do código representam os primeiros 10% do tempo de desenvolvimento. os 10% restantes do código é para mostrar aos outros os 90% do tempo de desenvolvimento. '"
      ]
     },
     "execution_count": 23,
     "metadata": {},
     "output_type": "execute_result"
    }
   ],
   "source": [
    "s.capitalize()"
   ]
  },
  {
   "cell_type": "code",
   "execution_count": 24,
   "id": "70bbeb12",
   "metadata": {},
   "outputs": [
    {
     "data": {
      "text/plain": [
       "6"
      ]
     },
     "execution_count": 24,
     "metadata": {},
     "output_type": "execute_result"
    }
   ],
   "source": [
    "s.count('a')"
   ]
  },
  {
   "cell_type": "code",
   "execution_count": 25,
   "id": "47c11fd9",
   "metadata": {},
   "outputs": [
    {
     "data": {
      "text/plain": [
       "False"
      ]
     },
     "execution_count": 25,
     "metadata": {},
     "output_type": "execute_result"
    }
   ],
   "source": [
    "s.isalnum()"
   ]
  },
  {
   "cell_type": "code",
   "execution_count": 26,
   "id": "52535ee9",
   "metadata": {},
   "outputs": [
    {
     "data": {
      "text/plain": [
       "False"
      ]
     },
     "execution_count": 26,
     "metadata": {},
     "output_type": "execute_result"
    }
   ],
   "source": [
    "s.islower()"
   ]
  },
  {
   "cell_type": "code",
   "execution_count": 27,
   "id": "ec58bb12",
   "metadata": {},
   "outputs": [
    {
     "data": {
      "text/plain": [
       "False"
      ]
     },
     "execution_count": 27,
     "metadata": {},
     "output_type": "execute_result"
    }
   ],
   "source": [
    "s.isspace()"
   ]
  },
  {
   "cell_type": "code",
   "execution_count": 28,
   "id": "8edd3079",
   "metadata": {},
   "outputs": [
    {
     "data": {
      "text/plain": [
       "False"
      ]
     },
     "execution_count": 28,
     "metadata": {},
     "output_type": "execute_result"
    }
   ],
   "source": [
    "s.endswith('o')"
   ]
  },
  {
   "cell_type": "markdown",
   "id": "f6377a05",
   "metadata": {},
   "source": [
    "### Comparando Strings "
   ]
  },
  {
   "cell_type": "code",
   "execution_count": 60,
   "id": "e5143030",
   "metadata": {},
   "outputs": [
    {
     "name": "stdout",
     "output_type": "stream",
     "text": [
      "False\n"
     ]
    }
   ],
   "source": [
    "print(\"Python\"==\"R\")"
   ]
  },
  {
   "cell_type": "code",
   "execution_count": 61,
   "id": "268107e1",
   "metadata": {},
   "outputs": [
    {
     "name": "stdout",
     "output_type": "stream",
     "text": [
      "True\n"
     ]
    }
   ],
   "source": [
    "print(\"Python\"==\"Python\")"
   ]
  },
  {
   "cell_type": "markdown",
   "id": "9dc47f77",
   "metadata": {},
   "source": [
    "# Fim"
   ]
  },
  {
   "cell_type": "code",
   "execution_count": null,
   "id": "fad92136",
   "metadata": {},
   "outputs": [],
   "source": []
  }
 ],
 "metadata": {
  "kernelspec": {
   "display_name": "Python 3 (ipykernel)",
   "language": "python",
   "name": "python3"
  },
  "language_info": {
   "codemirror_mode": {
    "name": "ipython",
    "version": 3
   },
   "file_extension": ".py",
   "mimetype": "text/x-python",
   "name": "python",
   "nbconvert_exporter": "python",
   "pygments_lexer": "ipython3",
   "version": "3.9.13"
  }
 },
 "nbformat": 4,
 "nbformat_minor": 5
}
